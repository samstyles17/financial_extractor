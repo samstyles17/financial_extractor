{
 "cells": [
  {
   "cell_type": "code",
   "execution_count": 1,
   "metadata": {},
   "outputs": [],
   "source": [
    "import re"
   ]
  },
  {
   "cell_type": "code",
   "execution_count": 12,
   "metadata": {},
   "outputs": [
    {
     "name": "stdout",
     "output_type": "stream",
     "text": [
      "True\n",
      "False\n"
     ]
    }
   ],
   "source": [
    "# 1. Write a Python program to check that a string contains only a certain set of characters (in this case a-z, A-Z and 0-9)\n",
    "def check1(value):\n",
    "    pattern = re.compile(r'[^A-Za-z0-9]')\n",
    "    result = pattern.search(value)\n",
    "    return not bool(result)\n",
    "\n",
    "print(check1(\"ABCDEFabcdef123450\"))\n",
    "print(check1(\"*&%@#!}{\"))\n"
   ]
  },
  {
   "cell_type": "code",
   "execution_count": 21,
   "metadata": {},
   "outputs": [
    {
     "name": "stdout",
     "output_type": "stream",
     "text": [
      "True\n",
      "True\n",
      "False\n"
     ]
    }
   ],
   "source": [
    "# 2. Write a Python program that matches a string that has an a followed by zero or more b's\n",
    "\"\"\" Notes: ^ inside brackets represent negation, outside represent starting character,\n",
    "[] represent any one value from the character class inside the bracekts, (b*) represents a capturing group \"\"\"\n",
    "def check2(value):\n",
    "    pattern = re.compile(r'^a(b*)$')\n",
    "    result = pattern.findall(value)\n",
    "    return bool(result)\n",
    "\n",
    "print(check2(\"a\"))\n",
    "print(check2(\"abbb\"))\n",
    "print(check2(\"abc\"))"
   ]
  },
  {
   "cell_type": "code",
   "execution_count": 22,
   "metadata": {},
   "outputs": [
    {
     "name": "stdout",
     "output_type": "stream",
     "text": [
      "False\n",
      "True\n",
      "False\n"
     ]
    }
   ],
   "source": [
    "# 3. Write a Python program that matches a string that has an a followed by one or more b's\n",
    "def check3(value):\n",
    "    pattern = re.compile(r'^a(b+)$')\n",
    "    result = pattern.findall(value)\n",
    "    return bool(result)\n",
    "\n",
    "print(check3(\"a\"))\n",
    "print(check3(\"abbb\"))\n",
    "print(check3(\"abc\"))"
   ]
  },
  {
   "cell_type": "code",
   "execution_count": 23,
   "metadata": {},
   "outputs": [
    {
     "name": "stdout",
     "output_type": "stream",
     "text": [
      "True\n",
      "False\n",
      "True\n"
     ]
    }
   ],
   "source": [
    "# 4. Write a Python program that matches a string that has an a followed by zero or one 'b'.\n",
    "def check4(value):\n",
    "    pattern = re.compile(r'^a(b?)$')\n",
    "    result = pattern.findall(value)\n",
    "    return bool(result)\n",
    "\n",
    "print(check4(\"a\"))\n",
    "print(check4(\"abbb\"))\n",
    "print(check4(\"ab\"))"
   ]
  },
  {
   "cell_type": "code",
   "execution_count": 25,
   "metadata": {},
   "outputs": [
    {
     "name": "stdout",
     "output_type": "stream",
     "text": [
      "False\n",
      "True\n",
      "False\n"
     ]
    }
   ],
   "source": [
    "# 5. Write a Python program that matches a string that has an a followed by three 'b'.\n",
    "def check5(value):\n",
    "    pattern = re.compile(r'^a(b{3})$')\n",
    "    result = pattern.findall(value)\n",
    "    return bool(result)\n",
    "\n",
    "print(check5(\"a\"))\n",
    "print(check5(\"abbb\"))\n",
    "print(check5(\"ab\"))"
   ]
  },
  {
   "cell_type": "code",
   "execution_count": 26,
   "metadata": {},
   "outputs": [
    {
     "name": "stdout",
     "output_type": "stream",
     "text": [
      "False\n",
      "True\n",
      "True\n",
      "False\n",
      "False\n"
     ]
    }
   ],
   "source": [
    "# 6. Write a Python program that matches a string that has an a followed by two to three 'b'.\n",
    "def check6(value):\n",
    "    pattern = re.compile(r'^a(b{2,3})$')\n",
    "    result = pattern.findall(value)\n",
    "    return bool(result)\n",
    "\n",
    "print(check6(\"d\"))\n",
    "print(check6(\"abbb\"))\n",
    "print(check6(\"abb\"))\n",
    "print(check6(\"ab\"))\n",
    "print(check6(\"a\"))"
   ]
  },
  {
   "cell_type": "code",
   "execution_count": 29,
   "metadata": {},
   "outputs": [
    {
     "name": "stdout",
     "output_type": "stream",
     "text": [
      "True\n",
      "False\n",
      "False\n",
      "False\n",
      "False\n"
     ]
    }
   ],
   "source": [
    "# 7. Write a Python program to find sequences of lowercase letters joined by an underscore.\n",
    "\n",
    "def check7(value):\n",
    "    pattern = re.compile(r'^[a-z]+_[a-z]+$')\n",
    "    result = pattern.findall(value)\n",
    "    return bool(result)\n",
    "\n",
    "print(check7(\"apple_ball\"))\n",
    "print(check7(\"AB\"))\n",
    "print(check7(\"_a_b\"))\n",
    "print(check7(\"a_b_c\"))\n",
    "print(check7(\"a_\"))\n"
   ]
  },
  {
   "cell_type": "code",
   "execution_count": 34,
   "metadata": {},
   "outputs": [
    {
     "name": "stdout",
     "output_type": "stream",
     "text": [
      "True\n",
      "False\n",
      "False\n"
     ]
    }
   ],
   "source": [
    "# 8. Write a Python program to find the sequences of one upper case letter followed by lower case letters.\n",
    "def check8(value):\n",
    "    pattern = re.compile(r'^[A-Z]{1}[a-z]+$')\n",
    "    result = pattern.findall(value)\n",
    "    return bool(result)\n",
    "\n",
    "print(check8(\"Python\"))\n",
    "print(check8(\"python\"))\n",
    "print(check8(\"PYthon\"))"
   ]
  },
  {
   "cell_type": "code",
   "execution_count": 37,
   "metadata": {},
   "outputs": [
    {
     "name": "stdout",
     "output_type": "stream",
     "text": [
      "True\n"
     ]
    }
   ],
   "source": [
    "# 9. Write a Python program that matches a string that has an 'a' followed by anything ending in 'b'.\n",
    "\"\"\" Note: .*? is a wildcard character called non- greedy quantifier which matches any character as few times as possible.\n",
    " dot matches any character except newline.\n",
    "* represents 0 or more occurences \"\"\"\n",
    "    \n",
    "def check9(value):\n",
    "    pattern  = re.compile(r'^a.*?b$')\n",
    "    result = pattern.findall(value)\n",
    "    return bool(result)\n",
    "\n",
    "print(check9(\"aa@#b\"))"
   ]
  },
  {
   "cell_type": "code",
   "execution_count": 44,
   "metadata": {},
   "outputs": [
    {
     "name": "stdout",
     "output_type": "stream",
     "text": [
      "True\n"
     ]
    }
   ],
   "source": [
    "# 10. Write a Python program that matches a word at the beginning of a string.\n",
    "\n",
    "def check10(text):\n",
    "    pattern = re.compile(r'^\\w+')\n",
    "    result = pattern.findall(text)\n",
    "    return bool(result)\n",
    "\n",
    "print(check10(\"anybody quick brown fox jumps over the lazy dog.\"))\n"
   ]
  },
  {
   "cell_type": "code",
   "execution_count": 2,
   "metadata": {},
   "outputs": [
    {
     "name": "stdout",
     "output_type": "stream",
     "text": [
      "['March 31, 2023', '2022']\n"
     ]
    }
   ],
   "source": [
    "import re\n",
    "date_pattern =  r'\\b(?:\\d{1,2}[/-]\\d{1,2}[/-]\\d{2,4}|' \\\n",
    "                r'(?:Jan|Feb|Mar|Apr|May|Jun|Jul|Aug|Sep|Oct|Nov|Dec)[a-zA-Z.,-]*[\\s-]?\\d{1,2}?[,\\s-]?[\\s]?\\d{4}|' \\\n",
    "                r'\\d{1,2}[/-]\\d{4}|\\d{4})\\b'\n",
    "                \n",
    "\n",
    "text = \"Particulars Note | Page As at March 31, 2023 As at_March 31, 2022\"\n",
    "\n",
    "result = re.findall(date_pattern,text)\n",
    "\n",
    "print(result)"
   ]
  },
  {
   "cell_type": "code",
   "execution_count": 13,
   "metadata": {},
   "outputs": [
    {
     "name": "stdout",
     "output_type": "stream",
     "text": [
      "['As at 31 March, 2023', 'No. 31-03-2023 31-03-2022', 'Date: 27 April, 2023', 'Annual Report 2022-23']\n"
     ]
    }
   ],
   "source": [
    "import re\n",
    "date_patterns = r'\\b(?:\\d{1,2}[/-]\\d{1,2}[/-]\\d{2,4}|' \\\n",
    "                r'(?:Jan|Feb|Mar|Apr|May|Jun|Jul|Aug|Sep|Oct|Nov|Dec)[a-zA-Z.,-]*[\\s-]?\\d{1,2}?[,\\s-]?[\\s]?\\d{4}|' \\\n",
    "                r'\\d{1,2}[/-]\\d{4}|\\d{4})\\b' \\\n",
    "              \n",
    "text1 = ['Standalone Financial Statements', '', 'Balance Sheet', '', 'As at 31 March, 2023', '', '(= in Thousands)', '', 'Schedule As at As at', 'No. 31-03-2023 31-03-2022', '', 'Capital and Liabilities', '', 'Capital 1 6,153,704 6,139,496', \"Employees' Stock Options Outstanding 4,234,118 1,485,957\", 'Reserves & Surplus 2 1,243,778,747 1,144,115,119', 'Deposits 3 9,469,452,104 8,219,715,463', 'Borrowings 4 1,863,000,386 1,851,338,631', 'Other Liabilities and Provisions 5 586,636,261 531,492,834', 'Total 13,173,255,320  11,754,287,500', 'Assets', '', 'Cash and Balances with Reserve Bank of India 6 661,177,565 940,345,056', 'Balances with Banks and Money at Call and Short Notice 7 402,930,507 169,526,229', 'Investments 8 2,888,148,338 2,755,972,009', 'Advances 9 8,453,028,410 7,079,465,923', 'Fixed Assets 10 47,338,516 45,723,503', 'Other Assets 11 720,631,984 763,254,780', 'Total 13,173,255,320  11,754,287,500', 'Contingent Liabilities 12 14,412,489,359 12,921,045,727', 'Bills for Collection 681,765,458 669,474,382', 'Significant Accounting Policies and Notes to Accounts 17 & 18', '', 'Schedules referred to above form an integral part of the Balance Sheet', '', 'In terms of our report attached. For Axis Bank Ltd.', 'For M. P. Chitale & Co. Rakesh Makhija', 'Chartered Accountants Chairman', '', 'ICAI Firm Registration No.: 101851W', '', 'Ashutosh Pednekar Rajiv Anand Amitabh Chaudhry', 'Partner Deputy Managing Director Managing Director & CEO', 'Membership No.: 041037', '', 'For CNK & Associates LLP S. Mahendra Dev Girish Paranjpe T.C. Suseel Kumar', 'Chartered Accountants Director Director Director', '', 'ICAI Firm Registration No.: 101961W/W 100036', '', 'Manish Sampat Sandeep Poddar Puneet Sharma Meena Ganesh', 'Partner Company Secretary Chief Financial Officer Director', 'Membership No.: 101684', '', 'Date: 27 April, 2023', 'Place: Mumbai', '', 'Annual Report 2022-23', '']\n",
    "\n",
    "res = []\n",
    "for values in text1:\n",
    "    if re.search(date_patterns,text1):\n",
    "        res.append(values)\n",
    "print(res)"
   ]
  },
  {
   "cell_type": "code",
   "execution_count": null,
   "metadata": {},
   "outputs": [],
   "source": [
    "import re\n",
    "\n",
    "date_patterns = r'\\b(?:\\d{1,2}[/-]\\d{1,2}[/-]\\d{2,4}|' \\\n",
    "                r'(?:Jan|Feb|Mar|Apr|May|Jun|Jul|Aug|Sep|Oct|Nov|Dec)[a-zA-Z.,-]*[\\s-]?\\d{1,2}?[,\\s-]?[\\s]?\\d{4}|' \\\n",
    "                r'\\d{1,2}[/-]\\d{4}|\\d{4})\\b'\n",
    "\n",
    "text1 = ['Standalone Financial Statements', '', 'Balance Sheet', '', 'As at 31 March, 2023', '', '(= in Thousands)', '', 'Schedule As at As at', 'No. 31-03-2023 31-03-2022', '', 'Capital and Liabilities', '', 'Capital 1 6,153,704 6,139,496', \"Employees' Stock Options Outstanding 4,234,118 1,485,957\", 'Reserves & Surplus 2 1,243,778,747 1,144,115,119', 'Deposits 3 9,469,452,104 8,219,715,463', 'Borrowings 4 1,863,000,386 1,851,338,631', 'Other Liabilities and Provisions 5 586,636,261 531,492,834', 'Total 13,173,255,320  11,754,287,500', 'Assets', '', 'Cash and Balances with Reserve Bank of India 6 661,177,565 940,345,056', 'Balances with Banks and Money at Call and Short Notice 7 402,930,507 169,526,229', 'Investments 8 2,888,148,338 2,755,972,009', 'Advances 9 8,453,028,410 7,079,465,923', 'Fixed Assets 10 47,338,516 45,723,503', 'Other Assets 11 720,631,984 763,254,780', 'Total 13,173,255,320  11,754,287,500', 'Contingent Liabilities 12 14,412,489,359 12,921,045,727', 'Bills for Collection 681,765,458 669,474,382', 'Significant Accounting Policies and Notes to Accounts 17 & 18', '', 'Schedules referred to above form an integral part of the Balance Sheet', '', 'In terms of our report attached. For Axis Bank Ltd.', 'For M. P. Chitale & Co. Rakesh Makhija', 'Chartered Accountants Chairman', '', 'ICAI Firm Registration No.: 101851W', '', 'Ashutosh Pednekar Rajiv Anand Amitabh Chaudhry', 'Partner Deputy Managing Director Managing Director & CEO', 'Membership No.: 041037', '', 'For CNK & Associates LLP S. Mahendra Dev Girish Paranjpe T.C. Suseel Kumar', 'Chartered Accountants Director Director Director', '', 'ICAI Firm Registration No.: 101961W/W 100036', '', 'Manish Sampat Sandeep Poddar Puneet Sharma Meena Ganesh', 'Partner Company Secretary Chief Financial Officer Director', 'Membership No.: 101684', '', 'Date: 27 April, 2023', 'Place: Mumbai', '', 'Annual Report 2022-23', '']\n",
    "\n",
    "res = []\n",
    "for value in text1:\n",
    "    if re.findall(date_patterns, value):\n",
    "        res.append(value)\n",
    "\n",
    "print(res)\n"
   ]
  }
 ],
 "metadata": {
  "kernelspec": {
   "display_name": "Python 3",
   "language": "python",
   "name": "python3"
  },
  "language_info": {
   "codemirror_mode": {
    "name": "ipython",
    "version": 3
   },
   "file_extension": ".py",
   "mimetype": "text/x-python",
   "name": "python",
   "nbconvert_exporter": "python",
   "pygments_lexer": "ipython3",
   "version": "3.12.1"
  }
 },
 "nbformat": 4,
 "nbformat_minor": 2
}
